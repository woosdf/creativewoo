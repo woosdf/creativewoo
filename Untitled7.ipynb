{
 "cells": [
  {
   "cell_type": "code",
   "execution_count": null,
   "metadata": {},
   "outputs": [],
   "source": [
    "from multiprocessing import Pool\n",
    "import time\n",
    "import os\n",
    "\n",
    "def my_func(work):\n",
    "    print(\"일(={0})에 Process ID = {1}\".format(work, os.getpid()))\n",
    "    time.sleep(1)\n",
    "    return work\n",
    "\n",
    "if __name__ == '__main__':\n",
    "    p = Pool(3)\n",
    "    startTime = int(time.time())\n",
    "    print(p.map(my_func, range(0,30)))\n",
    "    endTime = int(time.time())\n",
    "    print(\"작업 시간 = 약 {0}s\", (endTime - startTime))"
   ]
  },
  {
   "cell_type": "code",
   "execution_count": null,
   "metadata": {},
   "outputs": [],
   "source": [
    "import os\n",
    "import time\n",
    "from multiprocessing import Process as Process\n",
    "def seconds_timer(end_time):\n",
    "    start_time = time.time() - start_time\n",
    "    while True:\n",
    "        time.sleep(0.001)\n",
    "        if time.time() - start_time >= end_time :\n",
    "            break \n",
    "\n",
    "    proc = os.getpid()  \n",
    "    print('{0} seconds have elapsed by process id: {1}'.format(end_time,proc))\n",
    "\n",
    "if __name__ == '__main__':\n",
    "    end_time_list = [5,5,5] \n",
    "    procs = []\n",
    "\n",
    "    startTime = int(time.imte())\n",
    "    for end_time in end_time_list:\n",
    "        proc = Process(target = seconds_timer, args=(end_time,))\n",
    "        procs.append(proc)\n",
    "        proc.start()\n",
    "\n",
    "    for proc in procs:\n",
    "        proc.join()\n",
    "\n",
    "    endTime = int(time.time())\n",
    "    print(\"작업 시간 = 약 {0}s\".format(endTime - startTime))\n"
   ]
  },
  {
   "cell_type": "code",
   "execution_count": null,
   "metadata": {},
   "outputs": [],
   "source": [
    "from multiprocessing import Process, Queue\n",
    "import random\n",
    "\n",
    "def data_creator(max_data_number,q):\n",
    "    print('creating data!')\n",
    "    for _ in range(max_data_number):\n",
    "        data = random.random()\n",
    "        q.put(data)\n",
    "    q.put(None) \n",
    "\n",
    "\n",
    "def data_consumer(q):\n",
    "    while True:\n",
    "        data = q.get() \n",
    "        if data is None:\n",
    "            break \n",
    "        print('consumed data is {}'.format(data))\n",
    "\n",
    "\n",
    "if __name__ == '__main__':\n",
    "    q=Queue() \n",
    "    max_data_number = 10\n",
    "    process_creator = Process(target=data_creator, args=(max_data_number, q))\n",
    "    prcoess_consumer = Process(target=data_consumer, args=(q,))\n",
    "    process_creator.start() \n",
    "    process_consumer.start() \n",
    "\n",
    "    q.close()\n",
    "    q.join_thread() \n",
    "\n",
    "    process_creator.join()\n",
    "    process_consumer.join() "
   ]
  },
  {
   "cell_type": "code",
   "execution_count": null,
   "metadata": {},
   "outputs": [],
   "source": []
  }
 ],
 "metadata": {
  "kernelspec": {
   "display_name": "Python 3",
   "language": "python",
   "name": "python3"
  },
  "language_info": {
   "codemirror_mode": {
    "name": "ipython",
    "version": 3
   },
   "file_extension": ".py",
   "mimetype": "text/x-python",
   "name": "python",
   "nbconvert_exporter": "python",
   "pygments_lexer": "ipython3",
   "version": "3.8.3"
  }
 },
 "nbformat": 4,
 "nbformat_minor": 4
}
