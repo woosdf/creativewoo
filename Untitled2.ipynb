{
 "cells": [
  {
   "cell_type": "code",
   "execution_count": 1,
   "metadata": {},
   "outputs": [],
   "source": [
    "class MyDeque : \n",
    "    \n",
    "    def __init__(self) :\n",
    "        self.mydeque = [] \n",
    "    \n",
    "    def __str__(self) :\n",
    "        return \"mydeque([{}])\".format(\",\".join(self.mydeque))\n",
    "    \n",
    "    def __repr__(self) :\n",
    "        return \"mydeque([{}])\".format(\",\".join(self.mydeque))\n",
    "    \n",
    "    def func(self, _input):\n",
    "        _input = _input.split(' ')\n",
    "        if _input[0] == 'push_front' :\n",
    "            return self.push_front(_input[1])\n",
    "        elif _input[0] == 'push_back' :\n",
    "            return self.push_back(_input[1])\n",
    "        elif _input[0] == 'pop_front' :\n",
    "            return self.pop_front()\n",
    "        elif _input[0] == 'pop_back' :\n",
    "            return self.pop_back()\n",
    "        elif _input[0] == 'size' :\n",
    "            return self.size()\n",
    "        elif _input[0] == 'empty' :\n",
    "            return self.empty()\n",
    "        elif _input[0] == 'front' :\n",
    "            return self.front()\n",
    "        elif _input[0] == 'back' :\n",
    "            return self.back()\n",
    "        else :\n",
    "            raise 'No Attribution'\n",
    "            \n",
    "    def push_front(self, _input) :\n",
    "        self.mydeque.insert(0, _input)\n",
    "        \n",
    "    def push_back(self, _input) :\n",
    "        self.mydeque.append(_input)\n",
    "        \n",
    "    def pop_front(self) : \n",
    "        try : \n",
    "            return self.mydeque.pop(0) \n",
    "        except IndexError : \n",
    "            return -1\n",
    "    \n",
    "    def pop_back(self) : \n",
    "        try : \n",
    "            return self.mydeque.pop(-1)\n",
    "        except IndexError : \n",
    "            return -1\n",
    "        \n",
    "    def size(self) :\n",
    "        return len(self.mydeque) \n",
    "        \n",
    "    def empty(self) :\n",
    "        if self.size() == 0:\n",
    "            return 1 \n",
    "        else : \n",
    "            return 0 \n",
    "        \n",
    "    def front(self) :\n",
    "        try : \n",
    "            return self.mydeque[0]\n",
    "        except IndexError :\n",
    "            return -1\n",
    "        \n",
    "    def back(self) :\n",
    "        try : \n",
    "            return self.mydeque[-1]\n",
    "        except IndexError :\n",
    "            return -1"
   ]
  },
  {
   "cell_type": "code",
   "execution_count": 26,
   "metadata": {},
   "outputs": [
    {
     "name": "stdout",
     "output_type": "stream",
     "text": [
      "size=0\n",
      "empty=1\n",
      "push_front=mydeque([5])\n",
      "push_back=mydeque([5,4])\n",
      "front=5\n",
      "back=4\n",
      "pop_front=mydeque([4])\n",
      "pop_back=mydeque([])\n"
     ]
    },
    {
     "data": {
      "text/plain": [
       "mydeque([])"
      ]
     },
     "execution_count": 26,
     "metadata": {},
     "output_type": "execute_result"
    }
   ],
   "source": [
    "mydeque = MyDeque()\n",
    "print(\"size=\",end='')\n",
    "print(mydeque.func(\"size\"))\n",
    "print(\"empty=\",end='')\n",
    "print(mydeque.func(\"empty\"))\n",
    "print(\"push_front=\",end='')\n",
    "mydeque.func(\"push_front 5\")\n",
    "print(mydeque)\n",
    "print(\"push_back=\",end='')\n",
    "mydeque.func(\"push_back 4\")\n",
    "print(mydeque)\n",
    "print(\"front=\"+mydeque.func(\"front\"))\n",
    "print(\"back=\"+mydeque.func(\"back\"))\n",
    "print(\"pop_front=\",end='')\n",
    "mydeque.func(\"pop_front\")\n",
    "print(mydeque)\n",
    "print(\"pop_back=\",end='')\n",
    "mydeque.func(\"pop_back\")\n",
    "print(mydeque)\n",
    "mydeque"
   ]
  },
  {
   "cell_type": "code",
   "execution_count": null,
   "metadata": {},
   "outputs": [],
   "source": []
  }
 ],
 "metadata": {
  "kernelspec": {
   "display_name": "Python 3",
   "language": "python",
   "name": "python3"
  },
  "language_info": {
   "codemirror_mode": {
    "name": "ipython",
    "version": 3
   },
   "file_extension": ".py",
   "mimetype": "text/x-python",
   "name": "python",
   "nbconvert_exporter": "python",
   "pygments_lexer": "ipython3",
   "version": "3.8.3"
  }
 },
 "nbformat": 4,
 "nbformat_minor": 4
}
