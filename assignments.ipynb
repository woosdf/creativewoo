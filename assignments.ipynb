{
 "cells": [
  {
   "cell_type": "code",
   "execution_count": 172,
   "metadata": {},
   "outputs": [
    {
     "name": "stdout",
     "output_type": "stream",
     "text": [
      "279\n"
     ]
    }
   ],
   "source": [
    "count = 0\n",
    "for i in range (1000,10000,1) :\n",
    "    b = str(i)\n",
    "    if int('10' in b) == 1 :\n",
    "        count = count + 1\n",
    "print(count)\n",
    "        "
   ]
  },
  {
   "cell_type": "code",
   "execution_count": 2,
   "metadata": {},
   "outputs": [
    {
     "name": "stdout",
     "output_type": "stream",
     "text": [
      "108\n"
     ]
    }
   ],
   "source": [
    "count = 0\n",
    "for i in range (10,100000,1) :\n",
    "    b = str(i)\n",
    "    if int('080' in b) == 1 :\n",
    "        a = b\n",
    "        if(int(a)%20 == 0) :\n",
    "            count = count + 1\n",
    "print(count)"
   ]
  },
  {
   "cell_type": "code",
   "execution_count": 34,
   "metadata": {},
   "outputs": [
    {
     "name": "stdout",
     "output_type": "stream",
     "text": [
      "<9시 30분>\n",
      "0 1 0 \n",
      "1 0 1 \n",
      "0 1 0 \n",
      "<10시 0분>\n",
      "2 1 2 \n",
      "1 4 1 \n",
      "2 1 2 \n",
      "<10시 30분>\n",
      "4 9 4 \n",
      "9 8 9 \n",
      "4 9 4 \n",
      "<11시 0분>\n",
      "14 25 22 \n",
      "25 44 25 \n",
      "22 25 22 \n",
      "<11시 30분>\n",
      "40 105 72 \n",
      "105 144 113 \n",
      "72 113 72 \n",
      "<12시 0분>\n",
      "146 361 290 \n",
      "361 580 401 \n",
      "290 401 298 \n",
      "<12시 30분>\n",
      "508 1377 1052 \n",
      "1377 2104 1569 \n",
      "1052 1569 1100 \n",
      "<13시 0분>\n",
      "1886 5041 3998 \n",
      "5041 7996 5825 \n",
      "3998 5825 4238 \n",
      "<13시 30분>\n",
      "6928 18921 14864 \n",
      "18921 29728 22057 \n",
      "14864 22057 15888 \n",
      "<14시 0분>\n",
      "25850 70441 55842 \n",
      "70441 111684 82537 \n",
      "55842 82537 60002 \n",
      "<14시 30분>\n",
      "96292 263817 208820 \n",
      "263817 417640 310065 \n",
      "208820 310065 225076 \n",
      "<15시 0분>\n",
      "360110 986569 782702 \n",
      "986569 1565404 1161601 \n",
      "782702 1161601 845206 \n",
      "<15시 30분>\n",
      "1346680 3694785 2930872 \n",
      "3694785 5861744 4354913 \n",
      "2930872 4354913 3168408 \n",
      "<16시 0분>\n",
      "5041466 13834081 10980570 \n",
      "13834081 21961140 16315937 \n",
      "10980570 16315937 11878234 \n",
      "<16시 30분>\n",
      "18875548 51817257 41130588 \n",
      "51817257 82261176 61135881 \n",
      "41130588 61135881 44510108 \n",
      "<17시 0분>\n",
      "70692806 194084569 154083726 \n",
      "194084569 308167452 229037753 \n",
      "154083726 229037753 166781870 \n",
      "<17시 30분>\n",
      "264777376 727028553 577206048 \n",
      "727028553 1154412096 858070801 \n",
      "577206048 858070801 624857376 \n",
      "<18시 0분>\n",
      "991805930 2723424073 2162305402 \n",
      "2723424073 4324610804 3214546321 \n",
      "2162305402 3214546321 2340998978 \n",
      "확률은0.041571입니다\n"
     ]
    }
   ],
   "source": [
    "d  =  {0: '병원' ,  1:'우체국 ',  2:'파마시',  3:'학교' ,  4:'집' ,  5:'편의점' ,  6:'백화점' ,  7:'뷰티 살론' ,  8:'Lotteria'} \n",
    "\n",
    "a = [[0,0,0],[0,0,0],[0,0,0]]\n",
    "b = 9\n",
    "c = 0\n",
    "num0 = 0\n",
    "num1 = 0\n",
    "num2 = 0\n",
    "num3 = 0\n",
    "num4 = 0\n",
    "num5 = 0\n",
    "num6 = 0\n",
    "num7 = 0\n",
    "num8 = 0\n",
    "num9 = 0\n",
    "\n",
    "for i in range (1,19) :\n",
    "    if i == 1 :\n",
    "        num1 += 1\n",
    "        num3 += 1\n",
    "        num5 += 1\n",
    "        num7 += 1\n",
    "\n",
    "    else :\n",
    "        num0 = a[0][1]+[1][0]+num0\n",
    "        num1 = a[0][0]+a[0][2]+a[1][1]+num1\n",
    "        num2 = a[0][1]+a[1][2]+num2\n",
    "        num3 = a[0][0]+a[1][1]+a[2][0]+num3\n",
    "        num4 = a[0][1]+a[1][2]+a[2][1]+a[1][0]+num4\n",
    "        num5 = a[0][2]+a[1][1]+a[2][2]+num5\n",
    "        num6 = a[1][0]+a[2][1]+num6\n",
    "        num7 = a[1][1]+a[2][0]+a[2][2]+num7\n",
    "        num8 = a[1][2]+a[2][1]+num8\n",
    "        \n",
    "    a[0][0] = num0\n",
    "    a[0][1] = num1\n",
    "    a[0][2] = num2\n",
    "    a[1][0] = num3\n",
    "    a[1][1] = num4\n",
    "    a[1][2] = num5\n",
    "    a[2][0] = num6\n",
    "    a[2][1] = num7\n",
    "    a[2][2] = num8  \n",
    "        \n",
    "      \n",
    "    \n",
    "    \n",
    "    \n",
    "    if(i%2==0) :\n",
    "        b += 1\n",
    "        c -= 30\n",
    "    elif(i%2!=0) :\n",
    "        c += 30\n",
    "    print(\"<%d시 %d분>\"%(b,c))\n",
    "    for i in range (0,3) :\n",
    "        for j in range (0,3) :\n",
    "            print(a[i][j], end = \" \")\n",
    "        print()\n",
    "\n",
    "result = (num0/(num0+num1+num2+num3+num4+num5+num6+num7+num8))\n",
    "print(\"확률은%f입니다\"%result)\n",
    "     \n",
    "\n"
   ]
  },
  {
   "cell_type": "code",
   "execution_count": null,
   "metadata": {},
   "outputs": [],
   "source": []
  },
  {
   "cell_type": "code",
   "execution_count": null,
   "metadata": {},
   "outputs": [],
   "source": []
  },
  {
   "cell_type": "code",
   "execution_count": null,
   "metadata": {},
   "outputs": [],
   "source": []
  },
  {
   "cell_type": "code",
   "execution_count": null,
   "metadata": {},
   "outputs": [],
   "source": []
  },
  {
   "cell_type": "code",
   "execution_count": null,
   "metadata": {},
   "outputs": [],
   "source": []
  }
 ],
 "metadata": {
  "kernelspec": {
   "display_name": "Python 3",
   "language": "python",
   "name": "python3"
  },
  "language_info": {
   "codemirror_mode": {
    "name": "ipython",
    "version": 3
   },
   "file_extension": ".py",
   "mimetype": "text/x-python",
   "name": "python",
   "nbconvert_exporter": "python",
   "pygments_lexer": "ipython3",
   "version": "3.8.3"
  }
 },
 "nbformat": 4,
 "nbformat_minor": 4
}
