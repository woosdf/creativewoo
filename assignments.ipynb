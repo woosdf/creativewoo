{
 "cells": [
  {
   "cell_type": "code",
   "execution_count": 172,
   "metadata": {},
   "outputs": [
    {
     "name": "stdout",
     "output_type": "stream",
     "text": [
      "279\n"
     ]
    }
   ],
   "source": [
    "count = 0\n",
    "for i in range (1000,10000,1) :\n",
    "    b = str(i)\n",
    "    if int('10' in b) == 1 :\n",
    "        count = count + 1\n",
    "print(count)\n",
    "        "
   ]
  },
  {
   "cell_type": "code",
   "execution_count": 6,
   "metadata": {},
   "outputs": [
    {
     "name": "stdout",
     "output_type": "stream",
     "text": [
      "108\n"
     ]
    }
   ],
   "source": [
    "count = 0\n",
    "for i in range (1000,100000,1) :\n",
    "    b = str(i)\n",
    "    if int('080' in b) == 1 :\n",
    "        a = b\n",
    "        if(int(a)%20 == 0) :\n",
    "            count = count + 1\n",
    "print(count)"
   ]
  },
  {
   "cell_type": "code",
   "execution_count": 5,
   "metadata": {},
   "outputs": [
    {
     "name": "stdout",
     "output_type": "stream",
     "text": [
      "65\n",
      "확률은:6.500000퍼센트입니다\n"
     ]
    }
   ],
   "source": [
    "import random\n",
    "d  =  {0: '병원' ,  1:'우체국 ',  2:'파마시',  3:'학교' ,  4:'집' ,  5:'편의점' ,  6:'백화점' ,  7:'뷰티 살론' ,  8:'Lotteria'} \n",
    "\n",
    "a = [[0,0,0],[0,0,0],[0,0,0]]\n",
    "start = 3\n",
    "count = 0\n",
    "for m in range(1,1000) :\n",
    " for k in range(1,19,1) :\n",
    "    if(start==0) :\n",
    "        choice = random.randint(1,2)\n",
    "        if(choice==1) : \n",
    "            a[0][1] += 1\n",
    "            start = 1\n",
    "        elif(choice==2) : \n",
    "            a[1][0] += 1\n",
    "            start=3\n",
    "    elif(start==1) :\n",
    "        choice = random.randint(1,3)\n",
    "        if(choice==1) : \n",
    "            a[0][0] += 1\n",
    "            start = 0\n",
    "        elif(choice==2) : \n",
    "            a[0][2] += 1\n",
    "            start=2\n",
    "        elif(choice==3) : \n",
    "            a[1][1] += 1\n",
    "            start=4\n",
    "    elif(start==2) :\n",
    "        choice = random.randint(1,2)\n",
    "        if(choice==1) : \n",
    "            a[0][1] += 1\n",
    "            start = 1\n",
    "        elif(choice==2) : \n",
    "            a[1][2] += 1\n",
    "            start = 5\n",
    "    elif(start==3) :\n",
    "        choice = random.randint(1,3)\n",
    "        if(choice==1) : \n",
    "            a[0][0] += 1\n",
    "            start = 0\n",
    "        elif(choice==2) : \n",
    "            a[1][1] += 1\n",
    "            start = 4\n",
    "        elif(choice==3) : \n",
    "            a[2][0] += 1\n",
    "            start = 6\n",
    "    elif(start==4) :\n",
    "        choice = random.randint(1,4)\n",
    "        if(choice==1) : \n",
    "            a[0][1] += 1\n",
    "            start = 1\n",
    "        elif(choice==2) : \n",
    "            a[1][2] += 1\n",
    "            start = 5\n",
    "        elif(choice==3) : \n",
    "            a[2][1] += 1\n",
    "            start = 7\n",
    "        elif(choice==4) : \n",
    "            a[1][0] += 1\n",
    "            start = 3\n",
    "    elif(start==5) :\n",
    "        choice = random.randint(1,3)\n",
    "        if(choice==1) : \n",
    "            a[0][2] += 1\n",
    "            start = 2\n",
    "        elif(choice==2) : \n",
    "            a[2][2] += 1\n",
    "            start = 8\n",
    "        elif(choice==3) : \n",
    "            a[1][1] += 1\n",
    "            start = 4\n",
    "    elif(start==6) :\n",
    "        choice = random.randint(1,2)\n",
    "        if(choice==1) : \n",
    "            a[1][0] += 1\n",
    "            start = 4\n",
    "        elif(choice==2) : \n",
    "            a[2][1] += 1\n",
    "            start = 7\n",
    "    elif(start==7) :\n",
    "        choice = random.randint(1,3)\n",
    "        if(choice==1) : \n",
    "            a[1][1] += 1\n",
    "            start = 4\n",
    "        elif(choice==2) : \n",
    "            a[2][0] += 1\n",
    "            start = 6\n",
    "        elif(choice==3) : \n",
    "            a[2][2] += 1\n",
    "            start = 8\n",
    "    elif(start==8) :\n",
    "        choice = random.randint(1,2)\n",
    "        if(choice==1) : \n",
    "            a[1][2] += 1\n",
    "            start = 5\n",
    "        elif(choice==2) : \n",
    "            a[2][1] += 1\n",
    "            start = 7\n",
    " end = start \n",
    " if(end==0) :\n",
    "        count = count+1\n",
    "\n",
    "print(count)\n",
    "percent = count / 10\n",
    "print(\"확률은:%f퍼센트입니다\"% percent)\n"
   ]
  },
  {
   "cell_type": "code",
   "execution_count": null,
   "metadata": {},
   "outputs": [],
   "source": []
  },
  {
   "cell_type": "code",
   "execution_count": null,
   "metadata": {},
   "outputs": [],
   "source": []
  },
  {
   "cell_type": "code",
   "execution_count": null,
   "metadata": {},
   "outputs": [],
   "source": []
  },
  {
   "cell_type": "code",
   "execution_count": null,
   "metadata": {},
   "outputs": [],
   "source": []
  }
 ],
 "metadata": {
  "kernelspec": {
   "display_name": "Python 3",
   "language": "python",
   "name": "python3"
  },
  "language_info": {
   "codemirror_mode": {
    "name": "ipython",
    "version": 3
   },
   "file_extension": ".py",
   "mimetype": "text/x-python",
   "name": "python",
   "nbconvert_exporter": "python",
   "pygments_lexer": "ipython3",
   "version": "3.8.3"
  }
 },
 "nbformat": 4,
 "nbformat_minor": 4
}
