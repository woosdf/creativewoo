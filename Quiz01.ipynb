{
 "cells": [
  {
   "cell_type": "code",
   "execution_count": 76,
   "metadata": {},
   "outputs": [
    {
     "name": "stdout",
     "output_type": "stream",
     "text": [
      "5\n",
      "H값은 5입니다\n",
      "7\n",
      "3 8\n",
      "8 1 0\n",
      "2 7 4 4\n",
      "4 5 2 6 5\n",
      "[[30], [23, 21], [20, 13, 10], [7, 12, 10, 10], [4, 5, 2, 6, 5]]\n",
      "최종 계산 값 : 30입니다\n",
      "수행 시간: 0.000000초\n"
     ]
    }
   ],
   "source": [
    "import time\n",
    "import sys\n",
    "\n",
    "def compare(a, b) :\n",
    "    if(a>b) :\n",
    "        return a\n",
    "    else :\n",
    "        return b\n",
    "    \n",
    "def reset_triangle(int_triangle, H) :\n",
    "    for i in range(H-1,-1,-1) :\n",
    "        for j in range(0,i,1) :\n",
    "            MAX = compare(int_triangle[i][j],int_triangle[i][j+1])\n",
    "            int_triangle[i-1][j] += MAX\n",
    "    return int_triangle\n",
    "\n",
    "def invalid(int_triangle, H) :\n",
    "    for i in range(H-1,-1,-1) :\n",
    "        for j in range(0,i+1,1) :\n",
    "            if(int_triangle[i][j]<0 or int_triangle[i][j]>9999) :\n",
    "                return True\n",
    "    return False\n",
    "\n",
    "H = int(input())\n",
    "if(H<1 or H>500) :\n",
    "    sys.exit(\"H값의 범위가 1<=H<=500이 아닙니다\")\n",
    "print(\"H값은 %d입니다\"%H)\n",
    "int_triangle = []\n",
    "for i in range(H):\n",
    "    input_ = input()\n",
    "    line = list(map(int, input_.split(' ')))\n",
    "    assert len(line) == i + 1\n",
    "    int_triangle.append(line)\n",
    "if(invalid(int_triangle,H)==True) :\n",
    "    sys.exit(\"숫자가 9999를 초과하거나 0미만입니다\")\n",
    "s = time.time()\n",
    "reset_triangle(int_triangle,H)\n",
    "e = time.time()\n",
    "print(int_triangle)\n",
    "print(\"최종 계산 값 : %d입니다\"%int_triangle[0][0])\n",
    "print(\"수행 시간: {0:3.6f}초\".format(e-s))"
   ]
  },
  {
   "cell_type": "code",
   "execution_count": null,
   "metadata": {},
   "outputs": [],
   "source": []
  }
 ],
 "metadata": {
  "kernelspec": {
   "display_name": "Python 3",
   "language": "python",
   "name": "python3"
  },
  "language_info": {
   "codemirror_mode": {
    "name": "ipython",
    "version": 3
   },
   "file_extension": ".py",
   "mimetype": "text/x-python",
   "name": "python",
   "nbconvert_exporter": "python",
   "pygments_lexer": "ipython3",
   "version": "3.8.3"
  }
 },
 "nbformat": 4,
 "nbformat_minor": 4
}
